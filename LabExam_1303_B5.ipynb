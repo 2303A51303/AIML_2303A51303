{
  "nbformat": 4,
  "nbformat_minor": 0,
  "metadata": {
    "colab": {
      "provenance": [],
      "authorship_tag": "ABX9TyNJf2Ohw5ZaqFSqg2dHv3IL",
      "include_colab_link": true
    },
    "kernelspec": {
      "name": "python3",
      "display_name": "Python 3"
    },
    "language_info": {
      "name": "python"
    }
  },
  "cells": [
    {
      "cell_type": "markdown",
      "metadata": {
        "id": "view-in-github",
        "colab_type": "text"
      },
      "source": [
        "<a href=\"https://colab.research.google.com/github/2303A51303/AIML_2303A51303/blob/main/LabExam_1303_B5.ipynb\" target=\"_parent\"><img src=\"https://colab.research.google.com/assets/colab-badge.svg\" alt=\"Open In Colab\"/></a>"
      ]
    },
    {
      "cell_type": "markdown",
      "source": [
        "SET-22\n",
        "\n",
        "2303A51303\n",
        "\n",
        "batch-05\n",
        "\n",
        "\n",
        "**Q-Prediction of news popularity in social media platforms**\n",
        "\n",
        "q1. identify the max and min popularities of news among the social media platforms.\n",
        "\n",
        "Q2.identify the date and time when news popularity was the most.\n",
        "\n",
        "Q3.predict the social media platform with the most popularity.\n",
        "\n",
        "Q4.what types of news items is suitable and not suitable for social media.\n",
        "\n",
        "Q5.does news contribute to increase or decrease of social media popularity.\n",
        "\n"
      ],
      "metadata": {
        "id": "D2gHqQYkk84j"
      }
    },
    {
      "cell_type": "code",
      "source": [
        "import pandas as pd\n",
        "import numpy as np\n",
        "import matplotlib.pyplot as plt\n",
        "import seaborn as sns\n",
        "import zipfile\n",
        "import seaborn as sns\n",
        "import matplotlib.pyplot as plt\n",
        "\n"
      ],
      "metadata": {
        "id": "9daOQJh_m7VX"
      },
      "execution_count": 32,
      "outputs": []
    },
    {
      "cell_type": "code",
      "source": [
        "zip_file_path = '/content/news+popularity+in+multiple+social+media+platforms.zip'\n",
        "csv_file_name = 'Data/News_Final.csv'"
      ],
      "metadata": {
        "id": "9G2109IDtcYc"
      },
      "execution_count": 12,
      "outputs": []
    },
    {
      "cell_type": "code",
      "source": [
        "with zipfile.ZipFile(zip_file_path, 'r') as zip_ref:\n",
        "    with zip_ref.open(csv_file_name) as csv_file:\n",
        "        df = pd.read_csv(csv_file)"
      ],
      "metadata": {
        "id": "vEO9qxH1tfPt"
      },
      "execution_count": 13,
      "outputs": []
    },
    {
      "cell_type": "code",
      "source": [
        "print(df.columns)"
      ],
      "metadata": {
        "colab": {
          "base_uri": "https://localhost:8080/"
        },
        "id": "kBlMJZxqtiFM",
        "outputId": "c7f890dd-2977-4b03-d920-02769f490158"
      },
      "execution_count": 14,
      "outputs": [
        {
          "output_type": "stream",
          "name": "stdout",
          "text": [
            "Index(['IDLink', 'Title', 'Headline', 'Source', 'Topic', 'PublishDate',\n",
            "       'SentimentTitle', 'SentimentHeadline', 'Facebook', 'GooglePlus',\n",
            "       'LinkedIn'],\n",
            "      dtype='object')\n"
          ]
        }
      ]
    },
    {
      "cell_type": "code",
      "source": [
        "df.head()"
      ],
      "metadata": {
        "colab": {
          "base_uri": "https://localhost:8080/",
          "height": 677
        },
        "id": "ia60VGRItkjk",
        "outputId": "ccd5b5ef-08be-40bb-fc2a-248e6eb8976c"
      },
      "execution_count": 15,
      "outputs": [
        {
          "output_type": "execute_result",
          "data": {
            "text/plain": [
              "    IDLink                                              Title  \\\n",
              "0  99248.0   Obama Lays Wreath at Arlington National Cemetery   \n",
              "1  10423.0        A Look at the Health of the Chinese Economy   \n",
              "2  18828.0   Nouriel Roubini: Global Economy Not Back to 2008   \n",
              "3  27788.0                          Finland GDP Expands In Q4   \n",
              "4  27789.0  Tourism, govt spending buoys Thai economy in J...   \n",
              "\n",
              "                                            Headline  \\\n",
              "0  Obama Lays Wreath at Arlington National Cemete...   \n",
              "1  Tim Haywood, investment director business-unit...   \n",
              "2  Nouriel Roubini, NYU professor and chairman at...   \n",
              "3  Finland's economy expanded marginally in the t...   \n",
              "4  Tourism and public spending continued to boost...   \n",
              "\n",
              "                                     Source    Topic          PublishDate  \\\n",
              "0                                 USA TODAY    obama  2002-04-02 00:00:00   \n",
              "1                                 Bloomberg  economy  2008-09-20 00:00:00   \n",
              "2                                 Bloomberg  economy  2012-01-28 00:00:00   \n",
              "3                                  RTT News  economy  2015-03-01 00:06:00   \n",
              "4  The Nation - Thailand&#39;s English news  economy  2015-03-01 00:11:00   \n",
              "\n",
              "   SentimentTitle  SentimentHeadline  Facebook  GooglePlus  LinkedIn  \n",
              "0        0.000000          -0.053300        -1          -1        -1  \n",
              "1        0.208333          -0.156386        -1          -1        -1  \n",
              "2       -0.425210           0.139754        -1          -1        -1  \n",
              "3        0.000000           0.026064        -1          -1        -1  \n",
              "4        0.000000           0.141084        -1          -1        -1  "
            ],
            "text/html": [
              "\n",
              "  <div id=\"df-276753f6-81d3-45ff-b1e2-dc19521f7fdf\" class=\"colab-df-container\">\n",
              "    <div>\n",
              "<style scoped>\n",
              "    .dataframe tbody tr th:only-of-type {\n",
              "        vertical-align: middle;\n",
              "    }\n",
              "\n",
              "    .dataframe tbody tr th {\n",
              "        vertical-align: top;\n",
              "    }\n",
              "\n",
              "    .dataframe thead th {\n",
              "        text-align: right;\n",
              "    }\n",
              "</style>\n",
              "<table border=\"1\" class=\"dataframe\">\n",
              "  <thead>\n",
              "    <tr style=\"text-align: right;\">\n",
              "      <th></th>\n",
              "      <th>IDLink</th>\n",
              "      <th>Title</th>\n",
              "      <th>Headline</th>\n",
              "      <th>Source</th>\n",
              "      <th>Topic</th>\n",
              "      <th>PublishDate</th>\n",
              "      <th>SentimentTitle</th>\n",
              "      <th>SentimentHeadline</th>\n",
              "      <th>Facebook</th>\n",
              "      <th>GooglePlus</th>\n",
              "      <th>LinkedIn</th>\n",
              "    </tr>\n",
              "  </thead>\n",
              "  <tbody>\n",
              "    <tr>\n",
              "      <th>0</th>\n",
              "      <td>99248.0</td>\n",
              "      <td>Obama Lays Wreath at Arlington National Cemetery</td>\n",
              "      <td>Obama Lays Wreath at Arlington National Cemete...</td>\n",
              "      <td>USA TODAY</td>\n",
              "      <td>obama</td>\n",
              "      <td>2002-04-02 00:00:00</td>\n",
              "      <td>0.000000</td>\n",
              "      <td>-0.053300</td>\n",
              "      <td>-1</td>\n",
              "      <td>-1</td>\n",
              "      <td>-1</td>\n",
              "    </tr>\n",
              "    <tr>\n",
              "      <th>1</th>\n",
              "      <td>10423.0</td>\n",
              "      <td>A Look at the Health of the Chinese Economy</td>\n",
              "      <td>Tim Haywood, investment director business-unit...</td>\n",
              "      <td>Bloomberg</td>\n",
              "      <td>economy</td>\n",
              "      <td>2008-09-20 00:00:00</td>\n",
              "      <td>0.208333</td>\n",
              "      <td>-0.156386</td>\n",
              "      <td>-1</td>\n",
              "      <td>-1</td>\n",
              "      <td>-1</td>\n",
              "    </tr>\n",
              "    <tr>\n",
              "      <th>2</th>\n",
              "      <td>18828.0</td>\n",
              "      <td>Nouriel Roubini: Global Economy Not Back to 2008</td>\n",
              "      <td>Nouriel Roubini, NYU professor and chairman at...</td>\n",
              "      <td>Bloomberg</td>\n",
              "      <td>economy</td>\n",
              "      <td>2012-01-28 00:00:00</td>\n",
              "      <td>-0.425210</td>\n",
              "      <td>0.139754</td>\n",
              "      <td>-1</td>\n",
              "      <td>-1</td>\n",
              "      <td>-1</td>\n",
              "    </tr>\n",
              "    <tr>\n",
              "      <th>3</th>\n",
              "      <td>27788.0</td>\n",
              "      <td>Finland GDP Expands In Q4</td>\n",
              "      <td>Finland's economy expanded marginally in the t...</td>\n",
              "      <td>RTT News</td>\n",
              "      <td>economy</td>\n",
              "      <td>2015-03-01 00:06:00</td>\n",
              "      <td>0.000000</td>\n",
              "      <td>0.026064</td>\n",
              "      <td>-1</td>\n",
              "      <td>-1</td>\n",
              "      <td>-1</td>\n",
              "    </tr>\n",
              "    <tr>\n",
              "      <th>4</th>\n",
              "      <td>27789.0</td>\n",
              "      <td>Tourism, govt spending buoys Thai economy in J...</td>\n",
              "      <td>Tourism and public spending continued to boost...</td>\n",
              "      <td>The Nation - Thailand&amp;#39;s English news</td>\n",
              "      <td>economy</td>\n",
              "      <td>2015-03-01 00:11:00</td>\n",
              "      <td>0.000000</td>\n",
              "      <td>0.141084</td>\n",
              "      <td>-1</td>\n",
              "      <td>-1</td>\n",
              "      <td>-1</td>\n",
              "    </tr>\n",
              "  </tbody>\n",
              "</table>\n",
              "</div>\n",
              "    <div class=\"colab-df-buttons\">\n",
              "\n",
              "  <div class=\"colab-df-container\">\n",
              "    <button class=\"colab-df-convert\" onclick=\"convertToInteractive('df-276753f6-81d3-45ff-b1e2-dc19521f7fdf')\"\n",
              "            title=\"Convert this dataframe to an interactive table.\"\n",
              "            style=\"display:none;\">\n",
              "\n",
              "  <svg xmlns=\"http://www.w3.org/2000/svg\" height=\"24px\" viewBox=\"0 -960 960 960\">\n",
              "    <path d=\"M120-120v-720h720v720H120Zm60-500h600v-160H180v160Zm220 220h160v-160H400v160Zm0 220h160v-160H400v160ZM180-400h160v-160H180v160Zm440 0h160v-160H620v160ZM180-180h160v-160H180v160Zm440 0h160v-160H620v160Z\"/>\n",
              "  </svg>\n",
              "    </button>\n",
              "\n",
              "  <style>\n",
              "    .colab-df-container {\n",
              "      display:flex;\n",
              "      gap: 12px;\n",
              "    }\n",
              "\n",
              "    .colab-df-convert {\n",
              "      background-color: #E8F0FE;\n",
              "      border: none;\n",
              "      border-radius: 50%;\n",
              "      cursor: pointer;\n",
              "      display: none;\n",
              "      fill: #1967D2;\n",
              "      height: 32px;\n",
              "      padding: 0 0 0 0;\n",
              "      width: 32px;\n",
              "    }\n",
              "\n",
              "    .colab-df-convert:hover {\n",
              "      background-color: #E2EBFA;\n",
              "      box-shadow: 0px 1px 2px rgba(60, 64, 67, 0.3), 0px 1px 3px 1px rgba(60, 64, 67, 0.15);\n",
              "      fill: #174EA6;\n",
              "    }\n",
              "\n",
              "    .colab-df-buttons div {\n",
              "      margin-bottom: 4px;\n",
              "    }\n",
              "\n",
              "    [theme=dark] .colab-df-convert {\n",
              "      background-color: #3B4455;\n",
              "      fill: #D2E3FC;\n",
              "    }\n",
              "\n",
              "    [theme=dark] .colab-df-convert:hover {\n",
              "      background-color: #434B5C;\n",
              "      box-shadow: 0px 1px 3px 1px rgba(0, 0, 0, 0.15);\n",
              "      filter: drop-shadow(0px 1px 2px rgba(0, 0, 0, 0.3));\n",
              "      fill: #FFFFFF;\n",
              "    }\n",
              "  </style>\n",
              "\n",
              "    <script>\n",
              "      const buttonEl =\n",
              "        document.querySelector('#df-276753f6-81d3-45ff-b1e2-dc19521f7fdf button.colab-df-convert');\n",
              "      buttonEl.style.display =\n",
              "        google.colab.kernel.accessAllowed ? 'block' : 'none';\n",
              "\n",
              "      async function convertToInteractive(key) {\n",
              "        const element = document.querySelector('#df-276753f6-81d3-45ff-b1e2-dc19521f7fdf');\n",
              "        const dataTable =\n",
              "          await google.colab.kernel.invokeFunction('convertToInteractive',\n",
              "                                                    [key], {});\n",
              "        if (!dataTable) return;\n",
              "\n",
              "        const docLinkHtml = 'Like what you see? Visit the ' +\n",
              "          '<a target=\"_blank\" href=https://colab.research.google.com/notebooks/data_table.ipynb>data table notebook</a>'\n",
              "          + ' to learn more about interactive tables.';\n",
              "        element.innerHTML = '';\n",
              "        dataTable['output_type'] = 'display_data';\n",
              "        await google.colab.output.renderOutput(dataTable, element);\n",
              "        const docLink = document.createElement('div');\n",
              "        docLink.innerHTML = docLinkHtml;\n",
              "        element.appendChild(docLink);\n",
              "      }\n",
              "    </script>\n",
              "  </div>\n",
              "\n",
              "\n",
              "<div id=\"df-80e3d79d-463b-43a3-8bf1-51d09ea090ae\">\n",
              "  <button class=\"colab-df-quickchart\" onclick=\"quickchart('df-80e3d79d-463b-43a3-8bf1-51d09ea090ae')\"\n",
              "            title=\"Suggest charts\"\n",
              "            style=\"display:none;\">\n",
              "\n",
              "<svg xmlns=\"http://www.w3.org/2000/svg\" height=\"24px\"viewBox=\"0 0 24 24\"\n",
              "     width=\"24px\">\n",
              "    <g>\n",
              "        <path d=\"M19 3H5c-1.1 0-2 .9-2 2v14c0 1.1.9 2 2 2h14c1.1 0 2-.9 2-2V5c0-1.1-.9-2-2-2zM9 17H7v-7h2v7zm4 0h-2V7h2v10zm4 0h-2v-4h2v4z\"/>\n",
              "    </g>\n",
              "</svg>\n",
              "  </button>\n",
              "\n",
              "<style>\n",
              "  .colab-df-quickchart {\n",
              "      --bg-color: #E8F0FE;\n",
              "      --fill-color: #1967D2;\n",
              "      --hover-bg-color: #E2EBFA;\n",
              "      --hover-fill-color: #174EA6;\n",
              "      --disabled-fill-color: #AAA;\n",
              "      --disabled-bg-color: #DDD;\n",
              "  }\n",
              "\n",
              "  [theme=dark] .colab-df-quickchart {\n",
              "      --bg-color: #3B4455;\n",
              "      --fill-color: #D2E3FC;\n",
              "      --hover-bg-color: #434B5C;\n",
              "      --hover-fill-color: #FFFFFF;\n",
              "      --disabled-bg-color: #3B4455;\n",
              "      --disabled-fill-color: #666;\n",
              "  }\n",
              "\n",
              "  .colab-df-quickchart {\n",
              "    background-color: var(--bg-color);\n",
              "    border: none;\n",
              "    border-radius: 50%;\n",
              "    cursor: pointer;\n",
              "    display: none;\n",
              "    fill: var(--fill-color);\n",
              "    height: 32px;\n",
              "    padding: 0;\n",
              "    width: 32px;\n",
              "  }\n",
              "\n",
              "  .colab-df-quickchart:hover {\n",
              "    background-color: var(--hover-bg-color);\n",
              "    box-shadow: 0 1px 2px rgba(60, 64, 67, 0.3), 0 1px 3px 1px rgba(60, 64, 67, 0.15);\n",
              "    fill: var(--button-hover-fill-color);\n",
              "  }\n",
              "\n",
              "  .colab-df-quickchart-complete:disabled,\n",
              "  .colab-df-quickchart-complete:disabled:hover {\n",
              "    background-color: var(--disabled-bg-color);\n",
              "    fill: var(--disabled-fill-color);\n",
              "    box-shadow: none;\n",
              "  }\n",
              "\n",
              "  .colab-df-spinner {\n",
              "    border: 2px solid var(--fill-color);\n",
              "    border-color: transparent;\n",
              "    border-bottom-color: var(--fill-color);\n",
              "    animation:\n",
              "      spin 1s steps(1) infinite;\n",
              "  }\n",
              "\n",
              "  @keyframes spin {\n",
              "    0% {\n",
              "      border-color: transparent;\n",
              "      border-bottom-color: var(--fill-color);\n",
              "      border-left-color: var(--fill-color);\n",
              "    }\n",
              "    20% {\n",
              "      border-color: transparent;\n",
              "      border-left-color: var(--fill-color);\n",
              "      border-top-color: var(--fill-color);\n",
              "    }\n",
              "    30% {\n",
              "      border-color: transparent;\n",
              "      border-left-color: var(--fill-color);\n",
              "      border-top-color: var(--fill-color);\n",
              "      border-right-color: var(--fill-color);\n",
              "    }\n",
              "    40% {\n",
              "      border-color: transparent;\n",
              "      border-right-color: var(--fill-color);\n",
              "      border-top-color: var(--fill-color);\n",
              "    }\n",
              "    60% {\n",
              "      border-color: transparent;\n",
              "      border-right-color: var(--fill-color);\n",
              "    }\n",
              "    80% {\n",
              "      border-color: transparent;\n",
              "      border-right-color: var(--fill-color);\n",
              "      border-bottom-color: var(--fill-color);\n",
              "    }\n",
              "    90% {\n",
              "      border-color: transparent;\n",
              "      border-bottom-color: var(--fill-color);\n",
              "    }\n",
              "  }\n",
              "</style>\n",
              "\n",
              "  <script>\n",
              "    async function quickchart(key) {\n",
              "      const quickchartButtonEl =\n",
              "        document.querySelector('#' + key + ' button');\n",
              "      quickchartButtonEl.disabled = true;  // To prevent multiple clicks.\n",
              "      quickchartButtonEl.classList.add('colab-df-spinner');\n",
              "      try {\n",
              "        const charts = await google.colab.kernel.invokeFunction(\n",
              "            'suggestCharts', [key], {});\n",
              "      } catch (error) {\n",
              "        console.error('Error during call to suggestCharts:', error);\n",
              "      }\n",
              "      quickchartButtonEl.classList.remove('colab-df-spinner');\n",
              "      quickchartButtonEl.classList.add('colab-df-quickchart-complete');\n",
              "    }\n",
              "    (() => {\n",
              "      let quickchartButtonEl =\n",
              "        document.querySelector('#df-80e3d79d-463b-43a3-8bf1-51d09ea090ae button');\n",
              "      quickchartButtonEl.style.display =\n",
              "        google.colab.kernel.accessAllowed ? 'block' : 'none';\n",
              "    })();\n",
              "  </script>\n",
              "</div>\n",
              "\n",
              "    </div>\n",
              "  </div>\n"
            ],
            "application/vnd.google.colaboratory.intrinsic+json": {
              "type": "dataframe",
              "variable_name": "df",
              "summary": "{\n  \"name\": \"df\",\n  \"rows\": 93239,\n  \"fields\": [\n    {\n      \"column\": \"IDLink\",\n      \"properties\": {\n        \"dtype\": \"number\",\n        \"std\": 30391.078703604715,\n        \"min\": 1.0,\n        \"max\": 104802.0,\n        \"num_unique_values\": 93235,\n        \"samples\": [\n          9764.0,\n          58251.0,\n          50102.0\n        ],\n        \"semantic_type\": \"\",\n        \"description\": \"\"\n      }\n    },\n    {\n      \"column\": \"Title\",\n      \"properties\": {\n        \"dtype\": \"string\",\n        \"num_unique_values\": 81259,\n        \"samples\": [\n          \"Obama to GOP: Do as I Say, Not as I Did\",\n          \"Microsoft revenue, profit misses analysts' estimates\",\n          \"Paris to Host Int'l Ministerial Meeting on Israel-Palestine Peace ...\"\n        ],\n        \"semantic_type\": \"\",\n        \"description\": \"\"\n      }\n    },\n    {\n      \"column\": \"Headline\",\n      \"properties\": {\n        \"dtype\": \"string\",\n        \"num_unique_values\": 86694,\n        \"samples\": [\n          \"Certainly, we are all on the shoulders of those who fought for our country. But the first peoples of this land justifiably might feel bitterness. I am of\",\n          \"DALLAS, Nov. 16, 2015 /PRNewswire/ -- AT&T1\\u00a0will be the first U.S. carrier to offer the Microsoft Lumia 950, on Nov. 17 online at www.att.com, and on Nov. 20 in its retail stores nationwide. It brings &quot;PC-like&quot; power and entertainment to the palm of your hand. You can use the \",\n          \"\\\"\\\"\\\"The economy had been starting to stabilize, inflation was under control, and with average growth of around 4.5 percent over several years,\"\n        ],\n        \"semantic_type\": \"\",\n        \"description\": \"\"\n      }\n    },\n    {\n      \"column\": \"Source\",\n      \"properties\": {\n        \"dtype\": \"category\",\n        \"num_unique_values\": 5756,\n        \"samples\": [\n          \"Stanly News & Press\",\n          \"wivb.com\",\n          \"Spalding Guardian\"\n        ],\n        \"semantic_type\": \"\",\n        \"description\": \"\"\n      }\n    },\n    {\n      \"column\": \"Topic\",\n      \"properties\": {\n        \"dtype\": \"category\",\n        \"num_unique_values\": 4,\n        \"samples\": [\n          \"economy\",\n          \"palestine\",\n          \"obama\"\n        ],\n        \"semantic_type\": \"\",\n        \"description\": \"\"\n      }\n    },\n    {\n      \"column\": \"PublishDate\",\n      \"properties\": {\n        \"dtype\": \"object\",\n        \"num_unique_values\": 82644,\n        \"samples\": [\n          \"2016-05-25 05:22:00\",\n          \"2016-05-27 02:46:00\",\n          \"2016-03-13 21:30:00\"\n        ],\n        \"semantic_type\": \"\",\n        \"description\": \"\"\n      }\n    },\n    {\n      \"column\": \"SentimentTitle\",\n      \"properties\": {\n        \"dtype\": \"number\",\n        \"std\": 0.13643106073398806,\n        \"min\": -0.950694444444444,\n        \"max\": 0.962353560852284,\n        \"num_unique_values\": 14188,\n        \"samples\": [\n          0.0298447990713909,\n          -0.0620145889958085,\n          -0.35570133611512\n        ],\n        \"semantic_type\": \"\",\n        \"description\": \"\"\n      }\n    },\n    {\n      \"column\": \"SentimentHeadline\",\n      \"properties\": {\n        \"dtype\": \"number\",\n        \"std\": 0.1419639791163065,\n        \"min\": -0.755433425137583,\n        \"max\": 0.964646239710943,\n        \"num_unique_values\": 41257,\n        \"samples\": [\n          -0.0236593572733517,\n          -0.13276653616405,\n          -0.172368385180613\n        ],\n        \"semantic_type\": \"\",\n        \"description\": \"\"\n      }\n    },\n    {\n      \"column\": \"Facebook\",\n      \"properties\": {\n        \"dtype\": \"number\",\n        \"std\": 620,\n        \"min\": -1,\n        \"max\": 49211,\n        \"num_unique_values\": 2528,\n        \"samples\": [\n          1413,\n          5202,\n          783\n        ],\n        \"semantic_type\": \"\",\n        \"description\": \"\"\n      }\n    },\n    {\n      \"column\": \"GooglePlus\",\n      \"properties\": {\n        \"dtype\": \"number\",\n        \"std\": 18,\n        \"min\": -1,\n        \"max\": 1267,\n        \"num_unique_values\": 292,\n        \"samples\": [\n          58,\n          161,\n          85\n        ],\n        \"semantic_type\": \"\",\n        \"description\": \"\"\n      }\n    },\n    {\n      \"column\": \"LinkedIn\",\n      \"properties\": {\n        \"dtype\": \"number\",\n        \"std\": 154,\n        \"min\": -1,\n        \"max\": 20341,\n        \"num_unique_values\": 845,\n        \"samples\": [\n          478,\n          177,\n          266\n        ],\n        \"semantic_type\": \"\",\n        \"description\": \"\"\n      }\n    }\n  ]\n}"
            }
          },
          "metadata": {},
          "execution_count": 15
        }
      ]
    },
    {
      "cell_type": "code",
      "source": [
        "df.info()"
      ],
      "metadata": {
        "colab": {
          "base_uri": "https://localhost:8080/"
        },
        "id": "UNnPmJIStncb",
        "outputId": "3c4e9fe2-a864-44ca-9758-e6e67ca60d25"
      },
      "execution_count": 17,
      "outputs": [
        {
          "output_type": "stream",
          "name": "stdout",
          "text": [
            "<class 'pandas.core.frame.DataFrame'>\n",
            "RangeIndex: 93239 entries, 0 to 93238\n",
            "Data columns (total 11 columns):\n",
            " #   Column             Non-Null Count  Dtype  \n",
            "---  ------             --------------  -----  \n",
            " 0   IDLink             93239 non-null  float64\n",
            " 1   Title              93239 non-null  object \n",
            " 2   Headline           93224 non-null  object \n",
            " 3   Source             92960 non-null  object \n",
            " 4   Topic              93239 non-null  object \n",
            " 5   PublishDate        93239 non-null  object \n",
            " 6   SentimentTitle     93239 non-null  float64\n",
            " 7   SentimentHeadline  93239 non-null  float64\n",
            " 8   Facebook           93239 non-null  int64  \n",
            " 9   GooglePlus         93239 non-null  int64  \n",
            " 10  LinkedIn           93239 non-null  int64  \n",
            "dtypes: float64(3), int64(3), object(5)\n",
            "memory usage: 7.8+ MB\n"
          ]
        }
      ]
    },
    {
      "cell_type": "markdown",
      "source": [
        "**Question-1**"
      ],
      "metadata": {
        "id": "GkI-bUu5wy-F"
      }
    },
    {
      "cell_type": "code",
      "source": [
        "df['TotalPopularity'] = df[['Facebook', 'GooglePlus', 'LinkedIn']].sum(axis=1)"
      ],
      "metadata": {
        "id": "yvF5EQBiuT4V"
      },
      "execution_count": 20,
      "outputs": []
    },
    {
      "cell_type": "code",
      "source": [
        "max_popularity = df['TotalPopularity'].max()\n",
        "min_popularity = df['TotalPopularity'].min()"
      ],
      "metadata": {
        "id": "-M5203_Vul9e"
      },
      "execution_count": 21,
      "outputs": []
    },
    {
      "cell_type": "code",
      "source": [
        "print(f\"Max popularity: {max_popularity}\")\n",
        "print(f\"Min popularity: {min_popularity}\")"
      ],
      "metadata": {
        "colab": {
          "base_uri": "https://localhost:8080/"
        },
        "id": "3pZBcKN8up_K",
        "outputId": "939fe371-7717-407c-b8d1-77db8ad7f405"
      },
      "execution_count": 22,
      "outputs": [
        {
          "output_type": "stream",
          "name": "stdout",
          "text": [
            "Max popularity: 49211\n",
            "Min popularity: -3\n"
          ]
        }
      ]
    },
    {
      "cell_type": "markdown",
      "source": [
        "**Question-2**"
      ],
      "metadata": {
        "id": "G6erUBY4uuUe"
      }
    },
    {
      "cell_type": "code",
      "source": [
        "most_popular_news = df.loc[df['TotalPopularity'].idxmax()]"
      ],
      "metadata": {
        "id": "l781Lkb3uzL4"
      },
      "execution_count": 23,
      "outputs": []
    },
    {
      "cell_type": "code",
      "source": [
        "print(f\"Date and time of most popular news: {most_popular_news['PublishDate']}\")"
      ],
      "metadata": {
        "colab": {
          "base_uri": "https://localhost:8080/"
        },
        "id": "nwN2a5Mau4gx",
        "outputId": "8b55afb5-be48-448e-d456-51480be26347"
      },
      "execution_count": 24,
      "outputs": [
        {
          "output_type": "stream",
          "name": "stdout",
          "text": [
            "Date and time of most popular news: 2016-02-29 07:17:31\n"
          ]
        }
      ]
    },
    {
      "cell_type": "markdown",
      "source": [
        "**Question-3**"
      ],
      "metadata": {
        "id": "lZzFuQnvu-GH"
      }
    },
    {
      "cell_type": "code",
      "source": [
        "platform_totals = df[['Facebook', 'GooglePlus', 'LinkedIn']].sum()\n",
        "most_popular_platform = platform_totals.idxmax()"
      ],
      "metadata": {
        "id": "x_vpQZOhvCFU"
      },
      "execution_count": 25,
      "outputs": []
    },
    {
      "cell_type": "code",
      "source": [
        "print(f\"The social media platform with the most popularity is: {most_popular_platform}\")"
      ],
      "metadata": {
        "colab": {
          "base_uri": "https://localhost:8080/"
        },
        "id": "TtsiywD_vG6H",
        "outputId": "b2f5088d-9886-4e3f-a088-8a9f99ee1c28"
      },
      "execution_count": 26,
      "outputs": [
        {
          "output_type": "stream",
          "name": "stdout",
          "text": [
            "The social media platform with the most popularity is: Facebook\n"
          ]
        }
      ]
    },
    {
      "cell_type": "markdown",
      "source": [
        "**Question-4**"
      ],
      "metadata": {
        "id": "Xk6cJrOGvLuV"
      }
    },
    {
      "cell_type": "code",
      "source": [
        "topic_popularity = df.groupby('Topic')['TotalPopularity'].mean().sort_values(ascending=False)"
      ],
      "metadata": {
        "id": "QJrGM9invOTf"
      },
      "execution_count": 27,
      "outputs": []
    },
    {
      "cell_type": "code",
      "source": [
        "print(\"Most suitable types of news:\")\n",
        "print(topic_popularity.head())"
      ],
      "metadata": {
        "colab": {
          "base_uri": "https://localhost:8080/"
        },
        "id": "EnlSAAvSvW82",
        "outputId": "cc77335b-5918-4a99-c0ee-b87596c00cc5"
      },
      "execution_count": 28,
      "outputs": [
        {
          "output_type": "stream",
          "name": "stdout",
          "text": [
            "Most suitable types of news:\n",
            "Topic\n",
            "obama        297.516812\n",
            "microsoft     70.064828\n",
            "economy       57.901527\n",
            "palestine     50.518037\n",
            "Name: TotalPopularity, dtype: float64\n"
          ]
        }
      ]
    },
    {
      "cell_type": "code",
      "source": [
        "print(\"Least suitable types of news:\")\n",
        "print(topic_popularity.tail())"
      ],
      "metadata": {
        "colab": {
          "base_uri": "https://localhost:8080/"
        },
        "id": "60PpA-ZBvb5C",
        "outputId": "87c1ba1e-2493-4c25-af6b-1d2ceaaba7ef"
      },
      "execution_count": 29,
      "outputs": [
        {
          "output_type": "stream",
          "name": "stdout",
          "text": [
            "Least suitable types of news:\n",
            "Topic\n",
            "obama        297.516812\n",
            "microsoft     70.064828\n",
            "economy       57.901527\n",
            "palestine     50.518037\n",
            "Name: TotalPopularity, dtype: float64\n"
          ]
        }
      ]
    },
    {
      "cell_type": "markdown",
      "source": [
        "**Question-5**"
      ],
      "metadata": {
        "id": "1ClSg4Qfveh7"
      }
    },
    {
      "cell_type": "code",
      "source": [
        "correlations = df[['SentimentTitle', 'SentimentHeadline', 'TotalPopularity']].corr()"
      ],
      "metadata": {
        "id": "U1hxSwCHvhC7"
      },
      "execution_count": 30,
      "outputs": []
    },
    {
      "cell_type": "code",
      "source": [
        "print(\"Correlation of sentiments with popularity:\")\n",
        "print(correlations['TotalPopularity'])"
      ],
      "metadata": {
        "colab": {
          "base_uri": "https://localhost:8080/"
        },
        "id": "dbYMmKBvvlvY",
        "outputId": "0b286910-d2a9-4c25-b58b-7d85923d73fc"
      },
      "execution_count": 31,
      "outputs": [
        {
          "output_type": "stream",
          "name": "stdout",
          "text": [
            "Correlation of sentiments with popularity:\n",
            "SentimentTitle      -0.003069\n",
            "SentimentHeadline    0.001864\n",
            "TotalPopularity      1.000000\n",
            "Name: TotalPopularity, dtype: float64\n"
          ]
        }
      ]
    },
    {
      "cell_type": "markdown",
      "source": [
        "**Visualizing**"
      ],
      "metadata": {
        "id": "UoHssmGWv0Xr"
      }
    },
    {
      "cell_type": "code",
      "source": [
        "numeric_df = df.select_dtypes(include=['float64', 'int64'])"
      ],
      "metadata": {
        "id": "QAymTzNgwUIj"
      },
      "execution_count": 35,
      "outputs": []
    },
    {
      "cell_type": "code",
      "source": [
        "print(\"Numeric columns for correlation:\", numeric_df.columns)"
      ],
      "metadata": {
        "colab": {
          "base_uri": "https://localhost:8080/"
        },
        "id": "OqIII-CiwYho",
        "outputId": "2bf539eb-a316-45a0-a98c-7a72f5853528"
      },
      "execution_count": 36,
      "outputs": [
        {
          "output_type": "stream",
          "name": "stdout",
          "text": [
            "Numeric columns for correlation: Index(['IDLink', 'SentimentTitle', 'SentimentHeadline', 'Facebook',\n",
            "       'GooglePlus', 'LinkedIn', 'TotalPopularity'],\n",
            "      dtype='object')\n"
          ]
        }
      ]
    },
    {
      "cell_type": "code",
      "source": [
        "plt.figure(figsize=(10, 8))\n",
        "sns.heatmap(numeric_df.corr(), annot=True, cmap=\"coolwarm\")\n",
        "plt.title(\"Correlation Matrix\")\n",
        "plt.show()"
      ],
      "metadata": {
        "colab": {
          "base_uri": "https://localhost:8080/",
          "height": 721
        },
        "id": "PbW34OR8wcJE",
        "outputId": "fe027e98-0096-46e8-e901-e04300d4c456"
      },
      "execution_count": 39,
      "outputs": [
        {
          "output_type": "display_data",
          "data": {
            "text/plain": [
              "<Figure size 1000x800 with 2 Axes>"
            ],
            "image/png": "[encoded data removed]"
          },
          "metadata": {}
        }
      ]
    }
  ]
}