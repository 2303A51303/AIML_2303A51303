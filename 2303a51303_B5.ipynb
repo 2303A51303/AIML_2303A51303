{
  "nbformat": 4,
  "nbformat_minor": 0,
  "metadata": {
    "colab": {
      "provenance": [],
      "authorship_tag": "ABX9TyNSaFH0l3uLO6eo4gs5limS",
      "include_colab_link": true
    },
    "kernelspec": {
      "name": "python3",
      "display_name": "Python 3"
    },
    "language_info": {
      "name": "python"
    }
  },
  "cells": [
    {
      "cell_type": "markdown",
      "metadata": {
        "id": "view-in-github",
        "colab_type": "text"
      },
      "source": [
        "<a href=\"https://colab.research.google.com/github/2303A51303/AIML_2303A51303/blob/main/2303a51303_B5.ipynb\" target=\"_parent\"><img src=\"https://colab.research.google.com/assets/colab-badge.svg\" alt=\"Open In Colab\"/></a>"
      ]
    },
    {
      "cell_type": "code",
      "execution_count": null,
      "metadata": {
        "id": "0ETvbunrjggM"
      },
      "outputs": [],
      "source": []
    },
    {
      "cell_type": "markdown",
      "source": [
        "SET-22\n",
        "**Prediction of news popularity in social media platforms**\n",
        "\n",
        "q1. identify the max and min popularities of news among the social media platforms.\n",
        "\n",
        "Q2.identify the date and time when news popularity was the most.\n",
        "\n",
        "Q3.predict the social media platform with the most popularity.\n",
        "\n",
        "Q4.what types of news items is suitable and not suitable for social media.\n",
        "\n",
        "Q5.does news contribute to increase or decrease of social media popularity.\n",
        "\n"
      ],
      "metadata": {
        "id": "D2gHqQYkk84j"
      }
    },
    {
      "cell_type": "code",
      "source": [
        "import pandas as pd\n"
      ],
      "metadata": {
        "id": "9daOQJh_m7VX"
      },
      "execution_count": null,
      "outputs": []
    }
  ]
}