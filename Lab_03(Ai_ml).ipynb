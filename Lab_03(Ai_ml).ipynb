{
  "nbformat": 4,
  "nbformat_minor": 0,
  "metadata": {
    "colab": {
      "provenance": [],
      "authorship_tag": "ABX9TyPIhT1wJ+iWVE/Ycl3vfwda",
      "include_colab_link": true
    },
    "kernelspec": {
      "name": "python3",
      "display_name": "Python 3"
    },
    "language_info": {
      "name": "python"
    }
  },
  "cells": [
    {
      "cell_type": "markdown",
      "metadata": {
        "id": "view-in-github",
        "colab_type": "text"
      },
      "source": [
        "<a href=\"https://colab.research.google.com/github/2303A51303/AIML_2303A51303/blob/main/Lab_03(Ai_ml).ipynb\" target=\"_parent\"><img src=\"https://colab.research.google.com/assets/colab-badge.svg\" alt=\"Open In Colab\"/></a>"
      ]
    },
    {
      "cell_type": "code",
      "execution_count": null,
      "metadata": {
        "id": "NOaA90nyIAEV"
      },
      "outputs": [],
      "source": []
    },
    {
      "cell_type": "code",
      "source": [
        "from collections import namedtuple,Counter,defaultdict\n",
        "import random\n",
        "import math\n",
        "import functools\n",
        "cache=functools.lru_cache(10**6)"
      ],
      "metadata": {
        "id": "YpaNLv7LIRSB"
      },
      "execution_count": null,
      "outputs": []
    },
    {
      "cell_type": "code",
      "source": [
        "class Game:\n",
        "  def actions (self , state ):\n",
        "    raise NotImplementedError\n",
        "    def result (self , state , move ):\n",
        "      raise NotImplementedError\n",
        "      def is terminal (self , state ):\n",
        "        return not self. actions (state)\n",
        "        def utility (self , state , player ):\n",
        "          raise NotImplementedError"
      ],
      "metadata": {
        "colab": {
          "base_uri": "https://localhost:8080/",
          "height": 106
        },
        "id": "E1wglusyI3Vt",
        "outputId": "b5951289-5b24-4cd6-b6d1-5e4e96c2f8ee"
      },
      "execution_count": 1,
      "outputs": [
        {
          "output_type": "error",
          "ename": "SyntaxError",
          "evalue": "invalid syntax (<ipython-input-1-b79cc3ab3c83>, line 6)",
          "traceback": [
            "\u001b[0;36m  File \u001b[0;32m\"<ipython-input-1-b79cc3ab3c83>\"\u001b[0;36m, line \u001b[0;32m6\u001b[0m\n\u001b[0;31m    def is terminal (self , state ):\u001b[0m\n\u001b[0m        ^\u001b[0m\n\u001b[0;31mSyntaxError\u001b[0m\u001b[0;31m:\u001b[0m invalid syntax\n"
          ]
        }
      ]
    },
    {
      "cell_type": "code",
      "source": [
        "def play_game (game , strategies : dict , verbose =False ):\n",
        "\n",
        "state = game. initial\n",
        "while not game. is_terminal (state ):\n",
        "  player = state. to_move\n",
        "  move = strategies [ player ](game , state)\n",
        "  state = game. result (state , move)\n",
        "  if verbose :\n",
        "    print('Player ', player , 'move:', move)\n",
        "    print(state)\n",
        "return state"
      ],
      "metadata": {
        "colab": {
          "base_uri": "https://localhost:8080/",
          "height": 106
        },
        "id": "Cem0f5pmJs5w",
        "outputId": "65201286-7397-4f65-d525-da65a8194ee0"
      },
      "execution_count": 9,
      "outputs": [
        {
          "output_type": "error",
          "ename": "IndentationError",
          "evalue": "expected an indented block after function definition on line 1 (<ipython-input-9-dae9dc89382e>, line 3)",
          "traceback": [
            "\u001b[0;36m  File \u001b[0;32m\"<ipython-input-9-dae9dc89382e>\"\u001b[0;36m, line \u001b[0;32m3\u001b[0m\n\u001b[0;31m    state = game. initial\u001b[0m\n\u001b[0m    ^\u001b[0m\n\u001b[0;31mIndentationError\u001b[0m\u001b[0;31m:\u001b[0m expected an indented block after function definition on line 1\n"
          ]
        }
      ]
    },
    {
      "cell_type": "code",
      "source": [
        "def minimax search (game , state ):\n",
        "player = state. to move\n",
        "def max value (state ):\n",
        "if game. is terminal (state ):\n",
        "return game. utility (state , player ), None\n",
        "v, move = −infinity , None\n",
        "for a in game. actions (state ):\n",
        "v2 , = min value (game. result (state , a))\n",
        "if v2 > v:\n",
        "v, move = v2 , a\n",
        "return v, move\n",
        "def min value (state ):\n",
        "if game. is terminal (state ):\n",
        "return game. utility (state , player ), None\n",
        "v, move = +infinity , None\n",
        "for a in game. actions (state ):\n",
        "v2 , = max value (game. result (state , a))\n",
        "if v2 < v:\n",
        "v, move = v2 , a\n",
        "return v, move\n",
        "return max value (state)\n",
        "infinity = math.inf"
      ],
      "metadata": {
        "colab": {
          "base_uri": "https://localhost:8080/",
          "height": 106
        },
        "id": "4L4PJ8QKKnxh",
        "outputId": "d1c8ca24-06c8-465e-d3ed-88072b9be64e"
      },
      "execution_count": 7,
      "outputs": [
        {
          "output_type": "error",
          "ename": "SyntaxError",
          "evalue": "invalid character '−' (U+2212) (<ipython-input-7-7fa1d9ce762c>, line 6)",
          "traceback": [
            "\u001b[0;36m  File \u001b[0;32m\"<ipython-input-7-7fa1d9ce762c>\"\u001b[0;36m, line \u001b[0;32m6\u001b[0m\n\u001b[0;31m    v, move = −infinity , None\u001b[0m\n\u001b[0m              ^\u001b[0m\n\u001b[0;31mSyntaxError\u001b[0m\u001b[0;31m:\u001b[0m invalid character '−' (U+2212)\n"
          ]
        }
      ]
    }
  ]
}